{
  "nbformat": 4,
  "nbformat_minor": 0,
  "metadata": {
    "colab": {
      "name": "MURA_MAIN.ipynb",
      "version": "0.3.2",
      "provenance": [],
      "collapsed_sections": []
    },
    "kernelspec": {
      "name": "python3",
      "display_name": "Python 3"
    },
    "accelerator": "GPU"
  },
  "cells": [
    {
      "metadata": {
        "id": "3qugPj2_fGXU",
        "colab_type": "code",
        "outputId": "9cfc2ebb-06f5-438d-c9e2-2520dc9dae65",
        "colab": {
          "base_uri": "https://localhost:8080/",
          "height": 122
        }
      },
      "cell_type": "code",
      "source": [
        "from google.colab import drive\n",
        "drive.mount(\"/content/gdrive/\", force_remount=True)"
      ],
      "execution_count": 0,
      "outputs": [
        {
          "output_type": "stream",
          "text": [
            "Go to this URL in a browser: https://accounts.google.com/o/oauth2/auth?client_id=947318989803-6bn6qk8qdgf4n4g3pfee6491hc0brc4i.apps.googleusercontent.com&redirect_uri=urn%3Aietf%3Awg%3Aoauth%3A2.0%3Aoob&scope=email%20https%3A%2F%2Fwww.googleapis.com%2Fauth%2Fdocs.test%20https%3A%2F%2Fwww.googleapis.com%2Fauth%2Fdrive%20https%3A%2F%2Fwww.googleapis.com%2Fauth%2Fdrive.photos.readonly%20https%3A%2F%2Fwww.googleapis.com%2Fauth%2Fpeopleapi.readonly&response_type=code\n",
            "\n",
            "Enter your authorization code:\n",
            "··········\n",
            "Mounted at /content/gdrive/\n"
          ],
          "name": "stdout"
        }
      ]
    },
    {
      "metadata": {
        "id": "cIiuo1z9Xfne",
        "colab_type": "code",
        "outputId": "656a5f6f-e24d-424f-be6d-51292d7155cd",
        "colab": {
          "base_uri": "https://localhost:8080/",
          "height": 85
        }
      },
      "cell_type": "code",
      "source": [
        "!ls\n",
        "%cd /content/gdrive/My Drive/MURA2\n",
        "!ls"
      ],
      "execution_count": 0,
      "outputs": [
        {
          "output_type": "stream",
          "text": [
            "gdrive\tsample_data\n",
            "/content/gdrive/My Drive/MURA2\n",
            "GOOGLENET   hummer.jpg\t   mura_21.h5\ttrain  writer.jpg\n",
            "handy.jpeg  image4318.jpg  MURA2.ipynb\tvaild\n"
          ],
          "name": "stdout"
        }
      ]
    },
    {
      "metadata": {
        "id": "-T_X-w_p0GHP",
        "colab_type": "code",
        "outputId": "3f171209-6718-43de-e4bf-12eeb4f57d35",
        "colab": {
          "base_uri": "https://localhost:8080/",
          "height": 392
        }
      },
      "cell_type": "code",
      "source": [
        "from PIL import Image\n",
        "import os\n",
        "\n",
        "loc = \"train/\"\n",
        "path = loc+\"WRIST/\"\n",
        "\n",
        "#for folder in os.listdir(loc):\n",
        "  #path = loc+folder+\"/\"\n",
        "  #print(folder)\n",
        "for filename in os.listdir(path):\n",
        "  if not filename.endswith(\".png\"):\n",
        "    continue\n",
        "  f = open(path+filename,\"a\")\n",
        "  f.close()\n",
        "  try:\n",
        "    im = Image.open(path+filename)\n",
        "  except IOError:\n",
        "    os.remove(path+filename)\n",
        "    continue\n",
        "  rgb_im = im.convert('RGB')\n",
        "  print(filename)\n",
        "  filename = filename[:-3]\n",
        "  #print(filename)\n",
        "  rgb_im.save(path+filename+\"jpg\")\n",
        "  im.close()\n",
        "  os.remove(path+filename+\"png\")\n",
        "  \n",
        "print(\"Successful!\")"
      ],
      "execution_count": 0,
      "outputs": [
        {
          "output_type": "error",
          "ename": "KeyboardInterrupt",
          "evalue": "ignored",
          "traceback": [
            "\u001b[0;31m---------------------------------------------------------------------------\u001b[0m",
            "\u001b[0;31mOSError\u001b[0m                                   Traceback (most recent call last)",
            "\u001b[0;32m/usr/local/lib/python3.6/dist-packages/IPython/core/interactiveshell.py\u001b[0m in \u001b[0;36mrun_code\u001b[0;34m(self, code_obj, result)\u001b[0m\n\u001b[1;32m   2881\u001b[0m                 \u001b[0;31m#rprint('Running code', repr(code_obj)) # dbg\u001b[0m\u001b[0;34m\u001b[0m\u001b[0;34m\u001b[0m\u001b[0;34m\u001b[0m\u001b[0m\n\u001b[0;32m-> 2882\u001b[0;31m                 \u001b[0mexec\u001b[0m\u001b[0;34m(\u001b[0m\u001b[0mcode_obj\u001b[0m\u001b[0;34m,\u001b[0m \u001b[0mself\u001b[0m\u001b[0;34m.\u001b[0m\u001b[0muser_global_ns\u001b[0m\u001b[0;34m,\u001b[0m \u001b[0mself\u001b[0m\u001b[0;34m.\u001b[0m\u001b[0muser_ns\u001b[0m\u001b[0;34m)\u001b[0m\u001b[0;34m\u001b[0m\u001b[0;34m\u001b[0m\u001b[0m\n\u001b[0m\u001b[1;32m   2883\u001b[0m             \u001b[0;32mfinally\u001b[0m\u001b[0;34m:\u001b[0m\u001b[0;34m\u001b[0m\u001b[0;34m\u001b[0m\u001b[0m\n",
            "\u001b[0;32m<ipython-input-3-216eb163c948>\u001b[0m in \u001b[0;36m<module>\u001b[0;34m()\u001b[0m\n\u001b[1;32m      9\u001b[0m   \u001b[0;31m#print(folder)\u001b[0m\u001b[0;34m\u001b[0m\u001b[0;34m\u001b[0m\u001b[0;34m\u001b[0m\u001b[0m\n\u001b[0;32m---> 10\u001b[0;31m \u001b[0;32mfor\u001b[0m \u001b[0mfilename\u001b[0m \u001b[0;32min\u001b[0m \u001b[0mos\u001b[0m\u001b[0;34m.\u001b[0m\u001b[0mlistdir\u001b[0m\u001b[0;34m(\u001b[0m\u001b[0mpath\u001b[0m\u001b[0;34m)\u001b[0m\u001b[0;34m:\u001b[0m\u001b[0;34m\u001b[0m\u001b[0;34m\u001b[0m\u001b[0m\n\u001b[0m\u001b[1;32m     11\u001b[0m   \u001b[0;32mif\u001b[0m \u001b[0;32mnot\u001b[0m \u001b[0mfilename\u001b[0m\u001b[0;34m.\u001b[0m\u001b[0mendswith\u001b[0m\u001b[0;34m(\u001b[0m\u001b[0;34m\".png\"\u001b[0m\u001b[0;34m)\u001b[0m\u001b[0;34m:\u001b[0m\u001b[0;34m\u001b[0m\u001b[0;34m\u001b[0m\u001b[0m\n",
            "\u001b[0;31mOSError\u001b[0m: [Errno 5] Input/output error: 'train/WRIST/'",
            "\nDuring handling of the above exception, another exception occurred:\n",
            "\u001b[0;31mKeyboardInterrupt\u001b[0m                         Traceback (most recent call last)",
            "\u001b[0;31mKeyboardInterrupt\u001b[0m: "
          ]
        }
      ]
    },
    {
      "metadata": {
        "id": "dDEJJxfpp6AQ",
        "colab_type": "code",
        "colab": {}
      },
      "cell_type": "code",
      "source": [
        "from PIL import Image\n",
        "import os\n",
        "\n",
        "loc = \"train/\"\n",
        "path = loc+\"WRIST/\"\n",
        "i=0\n",
        "\n",
        "#for folder in os.listdir(loc):\n",
        " # path = loc+folder+\"/\"\n",
        "  #print(folder)\n",
        "for filename in os.listdir(path):\n",
        "  print(path+filename)\n",
        "  if filename.endswith(\".png\"):\n",
        "    i=i+1\n",
        "    os.remove(path+filename)\n",
        "    print(path+filename)\n",
        "  \n",
        "print(\"Successful!\")\n",
        "print(i)"
      ],
      "execution_count": 0,
      "outputs": []
    },
    {
      "metadata": {
        "id": "KbYK8kizYNtZ",
        "colab_type": "code",
        "outputId": "e28884f2-ddb5-4e6f-d6bb-720ddb545ca2",
        "colab": {
          "base_uri": "https://localhost:8080/",
          "height": 51
        }
      },
      "cell_type": "code",
      "source": [
        "from keras.models import Sequential, load_model\n",
        "from keras.layers import Convolution2D, ZeroPadding2D\n",
        "from keras.layers import MaxPooling2D\n",
        "from keras.layers import Dense, Dropout\n",
        "from keras.layers import Flatten\n",
        "from keras.preprocessing.image import ImageDataGenerator\n",
        "from keras.optimizers import SGD\n",
        "\n",
        "print(\"Import successful!\")"
      ],
      "execution_count": 0,
      "outputs": [
        {
          "output_type": "stream",
          "text": [
            "Using TensorFlow backend.\n"
          ],
          "name": "stderr"
        },
        {
          "output_type": "stream",
          "text": [
            "Import successful!\n"
          ],
          "name": "stdout"
        }
      ]
    },
    {
      "metadata": {
        "id": "cIZp4K9BYTsk",
        "colab_type": "code",
        "outputId": "dae3b116-dd98-49ac-d614-b4a709981ed2",
        "colab": {
          "base_uri": "https://localhost:8080/",
          "height": 34
        }
      },
      "cell_type": "code",
      "source": [
        "    model = Sequential()\n",
        "\n",
        "    model.add(Convolution2D(filters=64,input_shape=(224,224,3),kernel_size=(3, 3), activation='relu',padding = 'same'))\n",
        "    model.add(Convolution2D(filters=64,kernel_size=(3, 3), activation='relu',padding='same'))\n",
        "    model.add(MaxPooling2D((2,2), strides=(2,2)))\n",
        "\n",
        "    \n",
        "    model.add(Convolution2D(filters=128,kernel_size=(3, 3), activation='relu',padding='same'))\n",
        "    model.add(Convolution2D(filters=128,kernel_size=(3, 3), activation='relu',padding='same'))\n",
        "    model.add(MaxPooling2D(pool_size=(2, 2), strides=(2, 2)))\n",
        "\n",
        "    model.add(Convolution2D(filters=256,kernel_size=(3, 3), activation='relu',padding='same'))\n",
        "    model.add(Convolution2D(filters=256,kernel_size=(3, 3), activation='relu',padding='same'))\n",
        "    model.add(Convolution2D(filters=256,kernel_size=(3, 3), activation='relu',padding='same'))\n",
        "    model.add(MaxPooling2D(pool_size=(2, 2), strides=(2, 2)))\n",
        "\n",
        "\n",
        "    model.add(Convolution2D(filters=512,kernel_size=(3, 3), activation='relu',padding='same'))\n",
        "    model.add(Convolution2D(filters=512,kernel_size=(3, 3), activation='relu',padding='same'))\n",
        "    model.add(Convolution2D(filters=512,kernel_size=(3, 3), activation='relu',padding='same'))\n",
        "    model.add(MaxPooling2D(pool_size=(2, 2), strides=(2, 2)))\n",
        "\n",
        "    model.add(Convolution2D(filters=512,kernel_size=(3, 3), activation='relu',padding='same'))\n",
        "    model.add(Convolution2D(filters=512,kernel_size=(3, 3), activation='relu',padding='same'))\n",
        "    model.add(Convolution2D(filters=512,kernel_size=(3, 3), activation='relu',padding='same'))\n",
        "    model.add(MaxPooling2D(pool_size=(2, 2), strides=(2, 2)))\n",
        "\n",
        "    model.add(Flatten())\n",
        "    model.add(Dense(units=4096, activation='relu'))\n",
        "    model.add(Dense(units=4096, activation='relu'))\n",
        "    model.add(Dense(units=7, activation='softmax'))\n",
        "    \n",
        "    print (\"Create model successfully\")\n",
        "    sgd = SGD(lr=0.01, decay=1e-6, nesterov=True)\n",
        "    model.compile(optimizer=sgd,loss='categorical_crossentropy', metrics=['accuracy'])"
      ],
      "execution_count": 0,
      "outputs": [
        {
          "output_type": "stream",
          "text": [
            "Create model successfully\n"
          ],
          "name": "stdout"
        }
      ]
    },
    {
      "metadata": {
        "id": "HZ2K_ssCikjZ",
        "colab_type": "code",
        "colab": {}
      },
      "cell_type": "code",
      "source": [
        "model.summary()"
      ],
      "execution_count": 0,
      "outputs": []
    },
    {
      "metadata": {
        "id": "v8DHNwnwYeI7",
        "colab_type": "code",
        "outputId": "ea0cc0f9-638b-4ba8-9949-d1112528e769",
        "colab": {
          "base_uri": "https://localhost:8080/",
          "height": 51
        }
      },
      "cell_type": "code",
      "source": [
        "#from keras.utils.np.utils import to_categorical\n",
        "train_datagen = ImageDataGenerator(\n",
        "        rescale=1./255,\n",
        "        shear_range=0.2,\n",
        "        zoom_range=0.2,\n",
        "        horizontal_flip=True,\n",
        "        brightness_range=[1.5,1.5])\n",
        "\n",
        "test_datagen = ImageDataGenerator(rescale=1./255)\n",
        "\n",
        "training_set = train_datagen.flow_from_directory('train',\n",
        "                                                    target_size=(224, 224),\n",
        "                                                    batch_size=64,\n",
        "                                                    class_mode='categorical')\n",
        "\n",
        "test_set = test_datagen.flow_from_directory('vaild',\n",
        "                                            target_size=(224,224),\n",
        "                                                        batch_size=32,\n",
        "                                                        class_mode='categorical')\n",
        "#training_set = to_categorical(training_set)\n",
        "#test_set = to_categorical(test_set)\n"
      ],
      "execution_count": 0,
      "outputs": [
        {
          "output_type": "stream",
          "text": [
            "Found 27936 images belonging to 7 classes.\n",
            "Found 2087 images belonging to 7 classes.\n"
          ],
          "name": "stdout"
        }
      ]
    },
    {
      "metadata": {
        "id": "hloUurWyYqS3",
        "colab_type": "code",
        "outputId": "1b9f87f4-a2eb-490e-8b4b-b8b8b08fda45",
        "colab": {
          "base_uri": "https://localhost:8080/",
          "height": 1173
        }
      },
      "cell_type": "code",
      "source": [
        "model.fit_generator(training_set,\n",
        "                         steps_per_epoch=75,\n",
        "                         epochs=32,\n",
        "                        validation_data=test_set,\n",
        "                         validation_steps=25)\n",
        "\n"
      ],
      "execution_count": 0,
      "outputs": [
        {
          "output_type": "stream",
          "text": [
            "WARNING:tensorflow:From /usr/local/lib/python3.6/dist-packages/tensorflow/python/ops/math_ops.py:3066: to_int32 (from tensorflow.python.ops.math_ops) is deprecated and will be removed in a future version.\n",
            "Instructions for updating:\n",
            "Use tf.cast instead.\n",
            "Epoch 1/32\n",
            "75/75 [==============================] - 1749s 23s/step - loss: 1.9140 - acc: 0.2521 - val_loss: 1.9115 - val_acc: 0.2387\n",
            "Epoch 2/32\n",
            "75/75 [==============================] - 1564s 21s/step - loss: 1.8502 - acc: 0.2348 - val_loss: 1.9407 - val_acc: 0.2137\n",
            "Epoch 3/32\n",
            "75/75 [==============================] - 1503s 20s/step - loss: 1.8037 - acc: 0.2519 - val_loss: 1.9118 - val_acc: 0.2490\n",
            "Epoch 4/32\n",
            "75/75 [==============================] - 1490s 20s/step - loss: 1.7778 - acc: 0.3144 - val_loss: 1.8845 - val_acc: 0.2850\n",
            "Epoch 5/32\n",
            "75/75 [==============================] - 1514s 20s/step - loss: 1.6648 - acc: 0.3706 - val_loss: 1.7958 - val_acc: 0.3575\n",
            "Epoch 6/32\n",
            "75/75 [==============================] - 1306s 17s/step - loss: 1.5541 - acc: 0.4481 - val_loss: 1.6423 - val_acc: 0.4839\n",
            "Epoch 7/32\n",
            "75/75 [==============================] - 134s 2s/step - loss: 1.4205 - acc: 0.5225 - val_loss: 1.4903 - val_acc: 0.5175\n",
            "Epoch 8/32\n",
            "75/75 [==============================] - 139s 2s/step - loss: 1.2898 - acc: 0.5733 - val_loss: 1.3385 - val_acc: 0.5587\n",
            "Epoch 9/32\n",
            "75/75 [==============================] - 134s 2s/step - loss: 1.1815 - acc: 0.6283 - val_loss: 1.2391 - val_acc: 0.6125\n",
            "Epoch 10/32\n",
            "75/75 [==============================] - 132s 2s/step - loss: 1.0568 - acc: 0.6721 - val_loss: 1.1490 - val_acc: 0.6562\n",
            "Epoch 11/32\n",
            "75/75 [==============================] - 133s 2s/step - loss: 0.9187 - acc: 0.7206 - val_loss: 1.1079 - val_acc: 0.6581\n",
            "Epoch 12/32\n",
            "75/75 [==============================] - 128s 2s/step - loss: 0.8781 - acc: 0.7313 - val_loss: 1.0523 - val_acc: 0.6700\n",
            "Epoch 13/32\n",
            "75/75 [==============================] - 133s 2s/step - loss: 0.8083 - acc: 0.7635 - val_loss: 0.8939 - val_acc: 0.7388\n",
            "Epoch 14/32\n",
            "75/75 [==============================] - 133s 2s/step - loss: 0.7329 - acc: 0.7835 - val_loss: 0.8836 - val_acc: 0.7161\n",
            "Epoch 15/32\n",
            "75/75 [==============================] - 130s 2s/step - loss: 0.7102 - acc: 0.7810 - val_loss: 0.8460 - val_acc: 0.7600\n",
            "Epoch 16/32\n",
            "75/75 [==============================] - 131s 2s/step - loss: 0.6613 - acc: 0.8015 - val_loss: 0.7637 - val_acc: 0.8090\n",
            "Epoch 17/32\n",
            "75/75 [==============================] - 136s 2s/step - loss: 0.6420 - acc: 0.8129 - val_loss: 0.8716 - val_acc: 0.7662\n",
            "Epoch 18/32\n",
            "75/75 [==============================] - 130s 2s/step - loss: 0.6043 - acc: 0.8144 - val_loss: 0.7142 - val_acc: 0.7900\n",
            "Epoch 19/32\n",
            "75/75 [==============================] - 134s 2s/step - loss: 0.6029 - acc: 0.8204 - val_loss: 0.6991 - val_acc: 0.7716\n",
            "Epoch 20/32\n",
            "75/75 [==============================] - 136s 2s/step - loss: 0.5498 - acc: 0.8292 - val_loss: 0.8875 - val_acc: 0.7512\n",
            "Epoch 21/32\n",
            "75/75 [==============================] - 135s 2s/step - loss: 0.5372 - acc: 0.8342 - val_loss: 0.6887 - val_acc: 0.8137\n",
            "Epoch 22/32\n",
            "75/75 [==============================] - 133s 2s/step - loss: 0.5426 - acc: 0.8331 - val_loss: 0.6561 - val_acc: 0.8181\n",
            "Epoch 23/32\n",
            "75/75 [==============================] - 140s 2s/step - loss: 0.5034 - acc: 0.8442 - val_loss: 0.6431 - val_acc: 0.8150\n",
            "Epoch 24/32\n",
            "75/75 [==============================] - 137s 2s/step - loss: 0.5287 - acc: 0.8379 - val_loss: 0.6265 - val_acc: 0.8323\n",
            "Epoch 25/32\n",
            "75/75 [==============================] - 137s 2s/step - loss: 0.4754 - acc: 0.8506 - val_loss: 0.6336 - val_acc: 0.8175\n",
            "Epoch 26/32\n",
            "75/75 [==============================] - 139s 2s/step - loss: 0.4343 - acc: 0.8631 - val_loss: 0.6469 - val_acc: 0.8050\n",
            "Epoch 27/32\n",
            "75/75 [==============================] - 144s 2s/step - loss: 0.4564 - acc: 0.8577 - val_loss: 0.5555 - val_acc: 0.8348\n",
            "Epoch 28/32\n",
            "75/75 [==============================] - 137s 2s/step - loss: 0.4252 - acc: 0.8654 - val_loss: 0.7549 - val_acc: 0.7625\n",
            "Epoch 29/32\n",
            "75/75 [==============================] - 136s 2s/step - loss: 0.4254 - acc: 0.8692 - val_loss: 0.6307 - val_acc: 0.8363\n",
            "Epoch 30/32\n",
            "75/75 [==============================] - 140s 2s/step - loss: 0.4115 - acc: 0.8729 - val_loss: 0.6117 - val_acc: 0.8310\n",
            "Epoch 31/32\n",
            "75/75 [==============================] - 137s 2s/step - loss: 0.3909 - acc: 0.8812 - val_loss: 0.5788 - val_acc: 0.8475\n",
            "Epoch 32/32\n",
            "75/75 [==============================] - 137s 2s/step - loss: 0.3992 - acc: 0.8740 - val_loss: 0.6999 - val_acc: 0.8026\n"
          ],
          "name": "stdout"
        },
        {
          "output_type": "execute_result",
          "data": {
            "text/plain": [
              "<keras.callbacks.History at 0x7f4f6abfa2b0>"
            ]
          },
          "metadata": {
            "tags": []
          },
          "execution_count": 8
        }
      ]
    },
    {
      "metadata": {
        "id": "hSaaJwuJkHxn",
        "colab_type": "text"
      },
      "cell_type": "markdown",
      "source": [
        ""
      ]
    },
    {
      "metadata": {
        "id": "QFKnbZMLBVmT",
        "colab_type": "code",
        "colab": {}
      },
      "cell_type": "code",
      "source": [
        "model.save(\"mura_train87_val80.h5\")"
      ],
      "execution_count": 0,
      "outputs": []
    },
    {
      "metadata": {
        "id": "zDECy3Z0hcE_",
        "colab_type": "text"
      },
      "cell_type": "markdown",
      "source": [
        " "
      ]
    },
    {
      "metadata": {
        "id": "0uS-naxTClgg",
        "colab_type": "code",
        "colab": {}
      },
      "cell_type": "code",
      "source": [
        "model=load_model(\"mura_train87_val80.h5\")"
      ],
      "execution_count": 0,
      "outputs": []
    },
    {
      "metadata": {
        "id": "IeuT_9gKCreA",
        "colab_type": "code",
        "outputId": "69aa440a-da7e-468c-cd60-907b1c7be460",
        "colab": {
          "base_uri": "https://localhost:8080/",
          "height": 34
        }
      },
      "cell_type": "code",
      "source": [
        "#[elbow,finger,forearm,hand,humerus,shoulder,wrist]\n",
        "\n",
        "\n",
        "import numpy as np\n",
        "from keras.preprocessing import image\n",
        "test_image = image.load_img('handy.jpeg', target_size = (224,224))\n",
        "test_image = image.img_to_array(test_image)\n",
        "test_image = np.expand_dims(test_image, axis = 0)\n",
        "result = model.predict(test_image)\n",
        "classes = result.argmax(axis=-1)\n",
        "print(result)\n"
      ],
      "execution_count": 0,
      "outputs": [
        {
          "output_type": "stream",
          "text": [
            "[[0. 0. 0. 1. 0. 0. 0.]]\n"
          ],
          "name": "stdout"
        }
      ]
    },
    {
      "metadata": {
        "id": "IJJ1JRkmShpz",
        "colab_type": "text"
      },
      "cell_type": "markdown",
      "source": [
        ""
      ]
    }
  ]
}